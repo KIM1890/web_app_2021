{
 "cells": [
  {
   "cell_type": "code",
   "execution_count": 1,
   "metadata": {
    "collapsed": true
   },
   "outputs": [],
   "source": [
    "# get relative data folder\n",
    "import pathlib\n",
    "import pandas as pd\n",
    "# PATH = pathlib.Path(__file__).parent\n",
    "# DATA_PATH = PATH.joinpath(\"../datasets\").resolve()\n",
    "df = pd.read_csv(\"../datasets/disease.csv\",parse_dates=['date1'],index_col='date1')\n",
    "influ = round(df['influenza'].mean())\n",
    "influ_death = round(df['influenza_death'].mean())\n",
    "deng = round(df['dengue_fever'].mean())\n",
    "deng_death = round(df['dengue_fever_death'].mean())\n",
    "diarr = round(df['diarrhoea'].mean())\n",
    "diarr_death = round(df['diarrhoea_death'].mean())\n",
    "\n",
    "df['influenza'] = df['influenza'].fillna(influ)\n",
    "df['influenza_death'] = df['influenza_death'].fillna(influ_death)\n",
    "df['dengue_fever'] = df['dengue_fever'].fillna(deng)\n",
    "df['dengue_fever_death'] = df['dengue_fever_death'].fillna(deng_death)\n",
    "df['diarrhoea'] = df['diarrhoea'].fillna(diarr)\n",
    "df['diarrhoea_death'] = df['diarrhoea_death'].fillna(diarr_death)"
   ]
  },
  {
   "cell_type": "code",
   "execution_count": 3,
   "outputs": [
    {
     "data": {
      "text/plain": "dtype('<M8[ns]')"
     },
     "execution_count": 3,
     "metadata": {},
     "output_type": "execute_result"
    }
   ],
   "source": [
    "df.index.dtype"
   ],
   "metadata": {
    "collapsed": false,
    "pycharm": {
     "name": "#%%\n"
    }
   }
  },
  {
   "cell_type": "code",
   "execution_count": 4,
   "outputs": [],
   "source": [
    "df = pd.read_csv((\"../datasets/disease.csv\"))\n",
    "influ = round(df['influenza'].mean())\n",
    "influ_death = round(df['influenza_death'].mean())\n",
    "deng = round(df['dengue_fever'].mean())\n",
    "deng_death = round(df['dengue_fever_death'].mean())\n",
    "diarr = round(df['diarrhoea'].mean())\n",
    "diarr_death = round(df['diarrhoea_death'].mean())\n",
    "\n",
    "df['influenza'] = df['influenza'].replace(to_replace=0,value=influ)\n",
    "df['influenza_death'] = df['influenza_death'].replace(to_replace=0,value=influ_death)\n",
    "df['dengue_fever'] = df['dengue_fever'].replace(to_replace=0,value=deng)\n",
    "df['dengue_fever_death'] = df['dengue_fever_death'].replace(to_replace=0,value=deng_death)\n",
    "df['diarrhoea'] = df['diarrhoea'].replace(to_replace=0,value=diarr)\n",
    "df['diarrhoea_death'] = df['diarrhoea_death'].replace(to_replace=0,value=diarr_death)"
   ],
   "metadata": {
    "collapsed": false,
    "pycharm": {
     "name": "#%%\n"
    }
   }
  },
  {
   "cell_type": "code",
   "execution_count": 5,
   "outputs": [],
   "source": [
    "df.to_csv('../datasets/disease.csv')"
   ],
   "metadata": {
    "collapsed": false,
    "pycharm": {
     "name": "#%%\n"
    }
   }
  },
  {
   "cell_type": "code",
   "execution_count": 6,
   "outputs": [
    {
     "data": {
      "text/plain": "date1\n1997-01-15    10.7\n1997-01-15    49.5\n1997-01-15    35.9\n1997-01-15     7.8\n1997-01-15     7.6\n              ... \n2019-12-15     0.0\n2019-12-15     0.0\n2019-12-15     0.0\n2019-12-15     0.0\n2019-12-15     0.0\nName: rain, Length: 30360, dtype: float64"
     },
     "execution_count": 6,
     "metadata": {},
     "output_type": "execute_result"
    }
   ],
   "source": [
    "import pandas as pd\n",
    "data = pd.read_csv(\"../datasets/climate.csv\" ,index_col='date1',parse_dates=['date1'])\n",
    "data['rain']"
   ],
   "metadata": {
    "collapsed": false,
    "pycharm": {
     "name": "#%%\n"
    }
   }
  },
  {
   "cell_type": "code",
   "execution_count": 16,
   "outputs": [
    {
     "data": {
      "text/plain": "            year  month  fips province_name  influenza  influenza_death  \\\ndate1                                                                     \n1998-02-15  1998      2    28      Hưng Yên     1684.0              0.0   \n2012-08-15  2012      8    28      Hưng Yên     1604.0              0.0   \n2009-02-15  2009      2    28      Hưng Yên     1125.0              0.0   \n2011-04-15  2011      4    28      Hưng Yên     1347.0              0.0   \n2012-09-15  2012      9    28      Hưng Yên     1758.0              0.0   \n...          ...    ...   ...           ...        ...              ...   \n2015-10-15  2015     10    13      Bạc Liêu      262.0              0.0   \n2019-08-15  2019      8    13      Bạc Liêu     2241.0              0.0   \n1998-07-15  1998      7    13      Bạc Liêu      295.0              0.0   \n2003-07-15  2003      7    13      Bạc Liêu      796.0              0.0   \n2011-06-15  2011      6    13      Bạc Liêu      347.0              0.0   \n\n            dengue_fever_death  dengue_fever  diarrhoea  diarrhoea_death  \ndate1                                                                     \n1998-02-15                 0.0          77.0      775.0              0.0  \n2012-08-15                 0.0          77.0     1033.0              0.0  \n2009-02-15                 0.0          77.0      838.0              0.0  \n2011-04-15                 0.0          77.0      788.0              0.0  \n2012-09-15                 0.0          77.0     1005.0              0.0  \n...                        ...           ...        ...              ...  \n2015-10-15                 0.0          87.0      204.0              0.0  \n2019-08-15                 0.0          77.0      993.0              0.0  \n1998-07-15                 0.0         173.0      834.0              0.0  \n2003-07-15                 3.0         256.0      541.0              0.0  \n2011-06-15                 0.0         193.0      302.0              0.0  \n\n[30360 rows x 10 columns]",
      "text/html": "<div>\n<style scoped>\n    .dataframe tbody tr th:only-of-type {\n        vertical-align: middle;\n    }\n\n    .dataframe tbody tr th {\n        vertical-align: top;\n    }\n\n    .dataframe thead th {\n        text-align: right;\n    }\n</style>\n<table border=\"1\" class=\"dataframe\">\n  <thead>\n    <tr style=\"text-align: right;\">\n      <th></th>\n      <th>year</th>\n      <th>month</th>\n      <th>fips</th>\n      <th>province_name</th>\n      <th>influenza</th>\n      <th>influenza_death</th>\n      <th>dengue_fever_death</th>\n      <th>dengue_fever</th>\n      <th>diarrhoea</th>\n      <th>diarrhoea_death</th>\n    </tr>\n    <tr>\n      <th>date1</th>\n      <th></th>\n      <th></th>\n      <th></th>\n      <th></th>\n      <th></th>\n      <th></th>\n      <th></th>\n      <th></th>\n      <th></th>\n      <th></th>\n    </tr>\n  </thead>\n  <tbody>\n    <tr>\n      <th>1998-02-15</th>\n      <td>1998</td>\n      <td>2</td>\n      <td>28</td>\n      <td>Hưng Yên</td>\n      <td>1684.0</td>\n      <td>0.0</td>\n      <td>0.0</td>\n      <td>77.0</td>\n      <td>775.0</td>\n      <td>0.0</td>\n    </tr>\n    <tr>\n      <th>2012-08-15</th>\n      <td>2012</td>\n      <td>8</td>\n      <td>28</td>\n      <td>Hưng Yên</td>\n      <td>1604.0</td>\n      <td>0.0</td>\n      <td>0.0</td>\n      <td>77.0</td>\n      <td>1033.0</td>\n      <td>0.0</td>\n    </tr>\n    <tr>\n      <th>2009-02-15</th>\n      <td>2009</td>\n      <td>2</td>\n      <td>28</td>\n      <td>Hưng Yên</td>\n      <td>1125.0</td>\n      <td>0.0</td>\n      <td>0.0</td>\n      <td>77.0</td>\n      <td>838.0</td>\n      <td>0.0</td>\n    </tr>\n    <tr>\n      <th>2011-04-15</th>\n      <td>2011</td>\n      <td>4</td>\n      <td>28</td>\n      <td>Hưng Yên</td>\n      <td>1347.0</td>\n      <td>0.0</td>\n      <td>0.0</td>\n      <td>77.0</td>\n      <td>788.0</td>\n      <td>0.0</td>\n    </tr>\n    <tr>\n      <th>2012-09-15</th>\n      <td>2012</td>\n      <td>9</td>\n      <td>28</td>\n      <td>Hưng Yên</td>\n      <td>1758.0</td>\n      <td>0.0</td>\n      <td>0.0</td>\n      <td>77.0</td>\n      <td>1005.0</td>\n      <td>0.0</td>\n    </tr>\n    <tr>\n      <th>...</th>\n      <td>...</td>\n      <td>...</td>\n      <td>...</td>\n      <td>...</td>\n      <td>...</td>\n      <td>...</td>\n      <td>...</td>\n      <td>...</td>\n      <td>...</td>\n      <td>...</td>\n    </tr>\n    <tr>\n      <th>2015-10-15</th>\n      <td>2015</td>\n      <td>10</td>\n      <td>13</td>\n      <td>Bạc Liêu</td>\n      <td>262.0</td>\n      <td>0.0</td>\n      <td>0.0</td>\n      <td>87.0</td>\n      <td>204.0</td>\n      <td>0.0</td>\n    </tr>\n    <tr>\n      <th>2019-08-15</th>\n      <td>2019</td>\n      <td>8</td>\n      <td>13</td>\n      <td>Bạc Liêu</td>\n      <td>2241.0</td>\n      <td>0.0</td>\n      <td>0.0</td>\n      <td>77.0</td>\n      <td>993.0</td>\n      <td>0.0</td>\n    </tr>\n    <tr>\n      <th>1998-07-15</th>\n      <td>1998</td>\n      <td>7</td>\n      <td>13</td>\n      <td>Bạc Liêu</td>\n      <td>295.0</td>\n      <td>0.0</td>\n      <td>0.0</td>\n      <td>173.0</td>\n      <td>834.0</td>\n      <td>0.0</td>\n    </tr>\n    <tr>\n      <th>2003-07-15</th>\n      <td>2003</td>\n      <td>7</td>\n      <td>13</td>\n      <td>Bạc Liêu</td>\n      <td>796.0</td>\n      <td>0.0</td>\n      <td>3.0</td>\n      <td>256.0</td>\n      <td>541.0</td>\n      <td>0.0</td>\n    </tr>\n    <tr>\n      <th>2011-06-15</th>\n      <td>2011</td>\n      <td>6</td>\n      <td>13</td>\n      <td>Bạc Liêu</td>\n      <td>347.0</td>\n      <td>0.0</td>\n      <td>0.0</td>\n      <td>193.0</td>\n      <td>302.0</td>\n      <td>0.0</td>\n    </tr>\n  </tbody>\n</table>\n<p>30360 rows × 10 columns</p>\n</div>"
     },
     "execution_count": 16,
     "metadata": {},
     "output_type": "execute_result"
    }
   ],
   "source": [
    "from app.database import models as md\n",
    "\n",
    "query = md.GetData()\n",
    "\n",
    "disease = query.get_to_disease()\n",
    "disease['influenza'].resample('A').mean()\n",
    "disease"
   ],
   "metadata": {
    "collapsed": false,
    "pycharm": {
     "name": "#%%\n"
    }
   }
  },
  {
   "cell_type": "code",
   "execution_count": 18,
   "outputs": [
    {
     "data": {
      "text/plain": "                    province_name  fips  year\n0                          Hà Nội    23  2013\n1                          Hà Nội    23  2006\n2                          Hà Nội    23  2007\n3                          Hà Nội    23  2007\n4                          Hà Nội    23  2002\n...                           ...   ...   ...\n2015-10-15 00:00:00      Bạc Liêu    13  2015\n2019-08-15 00:00:00      Bạc Liêu    13  2019\n1998-07-15 00:00:00      Bạc Liêu    13  1998\n2003-07-15 00:00:00      Bạc Liêu    13  2003\n2011-06-15 00:00:00      Bạc Liêu    13  2011\n\n[60720 rows x 3 columns]",
      "text/html": "<div>\n<style scoped>\n    .dataframe tbody tr th:only-of-type {\n        vertical-align: middle;\n    }\n\n    .dataframe tbody tr th {\n        vertical-align: top;\n    }\n\n    .dataframe thead th {\n        text-align: right;\n    }\n</style>\n<table border=\"1\" class=\"dataframe\">\n  <thead>\n    <tr style=\"text-align: right;\">\n      <th></th>\n      <th>province_name</th>\n      <th>fips</th>\n      <th>year</th>\n    </tr>\n  </thead>\n  <tbody>\n    <tr>\n      <th>0</th>\n      <td>Hà Nội</td>\n      <td>23</td>\n      <td>2013</td>\n    </tr>\n    <tr>\n      <th>1</th>\n      <td>Hà Nội</td>\n      <td>23</td>\n      <td>2006</td>\n    </tr>\n    <tr>\n      <th>2</th>\n      <td>Hà Nội</td>\n      <td>23</td>\n      <td>2007</td>\n    </tr>\n    <tr>\n      <th>3</th>\n      <td>Hà Nội</td>\n      <td>23</td>\n      <td>2007</td>\n    </tr>\n    <tr>\n      <th>4</th>\n      <td>Hà Nội</td>\n      <td>23</td>\n      <td>2002</td>\n    </tr>\n    <tr>\n      <th>...</th>\n      <td>...</td>\n      <td>...</td>\n      <td>...</td>\n    </tr>\n    <tr>\n      <th>2015-10-15 00:00:00</th>\n      <td>Bạc Liêu</td>\n      <td>13</td>\n      <td>2015</td>\n    </tr>\n    <tr>\n      <th>2019-08-15 00:00:00</th>\n      <td>Bạc Liêu</td>\n      <td>13</td>\n      <td>2019</td>\n    </tr>\n    <tr>\n      <th>1998-07-15 00:00:00</th>\n      <td>Bạc Liêu</td>\n      <td>13</td>\n      <td>1998</td>\n    </tr>\n    <tr>\n      <th>2003-07-15 00:00:00</th>\n      <td>Bạc Liêu</td>\n      <td>13</td>\n      <td>2003</td>\n    </tr>\n    <tr>\n      <th>2011-06-15 00:00:00</th>\n      <td>Bạc Liêu</td>\n      <td>13</td>\n      <td>2011</td>\n    </tr>\n  </tbody>\n</table>\n<p>60720 rows × 3 columns</p>\n</div>"
     },
     "execution_count": 18,
     "metadata": {},
     "output_type": "execute_result"
    }
   ],
   "source": [
    "df = query.get_to_climate_disease()\n",
    "df"
   ],
   "metadata": {
    "collapsed": false,
    "pycharm": {
     "name": "#%%\n"
    }
   }
  }
 ],
 "metadata": {
  "kernelspec": {
   "display_name": "Python 3",
   "language": "python",
   "name": "python3"
  },
  "language_info": {
   "codemirror_mode": {
    "name": "ipython",
    "version": 2
   },
   "file_extension": ".py",
   "mimetype": "text/x-python",
   "name": "python",
   "nbconvert_exporter": "python",
   "pygments_lexer": "ipython2",
   "version": "2.7.6"
  }
 },
 "nbformat": 4,
 "nbformat_minor": 0
}