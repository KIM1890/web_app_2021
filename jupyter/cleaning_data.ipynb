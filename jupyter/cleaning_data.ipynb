{
 "cells": [
  {
   "cell_type": "code",
   "execution_count": 1,
   "metadata": {
    "collapsed": true
   },
   "outputs": [],
   "source": [
    "# get relative data folder\n",
    "import pathlib\n",
    "import pandas as pd\n",
    "# PATH = pathlib.Path(__file__).parent\n",
    "# DATA_PATH = PATH.joinpath(\"../datasets\").resolve()\n",
    "df = pd.read_csv(\"../datasets/disease.csv\",parse_dates=['date1'],index_col='date1')\n",
    "influ = round(df['influenza'].mean())\n",
    "influ_death = round(df['influenza_death'].mean())\n",
    "deng = round(df['dengue_fever'].mean())\n",
    "deng_death = round(df['dengue_fever_death'].mean())\n",
    "diarr = round(df['diarrhoea'].mean())\n",
    "diarr_death = round(df['diarrhoea_death'].mean())\n",
    "\n",
    "df['influenza'] = df['influenza'].fillna(influ)\n",
    "df['influenza_death'] = df['influenza_death'].fillna(influ_death)\n",
    "df['dengue_fever'] = df['dengue_fever'].fillna(deng)\n",
    "df['dengue_fever_death'] = df['dengue_fever_death'].fillna(deng_death)\n",
    "df['diarrhoea'] = df['diarrhoea'].fillna(diarr)\n",
    "df['diarrhoea_death'] = df['diarrhoea_death'].fillna(diarr_death)"
   ]
  },
  {
   "cell_type": "code",
   "execution_count": 3,
   "outputs": [
    {
     "data": {
      "text/plain": "dtype('<M8[ns]')"
     },
     "execution_count": 3,
     "metadata": {},
     "output_type": "execute_result"
    }
   ],
   "source": [
    "df.index.dtype"
   ],
   "metadata": {
    "collapsed": false,
    "pycharm": {
     "name": "#%%\n"
    }
   }
  },
  {
   "cell_type": "code",
   "execution_count": 4,
   "outputs": [],
   "source": [
    "df = pd.read_csv((\"../datasets/disease.csv\"))\n",
    "influ = round(df['influenza'].mean())\n",
    "influ_death = round(df['influenza_death'].mean())\n",
    "deng = round(df['dengue_fever'].mean())\n",
    "deng_death = round(df['dengue_fever_death'].mean())\n",
    "diarr = round(df['diarrhoea'].mean())\n",
    "diarr_death = round(df['diarrhoea_death'].mean())\n",
    "\n",
    "df['influenza'] = df['influenza'].replace(to_replace=0,value=influ)\n",
    "df['influenza_death'] = df['influenza_death'].replace(to_replace=0,value=influ_death)\n",
    "df['dengue_fever'] = df['dengue_fever'].replace(to_replace=0,value=deng)\n",
    "df['dengue_fever_death'] = df['dengue_fever_death'].replace(to_replace=0,value=deng_death)\n",
    "df['diarrhoea'] = df['diarrhoea'].replace(to_replace=0,value=diarr)\n",
    "df['diarrhoea_death'] = df['diarrhoea_death'].replace(to_replace=0,value=diarr_death)"
   ],
   "metadata": {
    "collapsed": false,
    "pycharm": {
     "name": "#%%\n"
    }
   }
  },
  {
   "cell_type": "code",
   "execution_count": 5,
   "outputs": [],
   "source": [
    "df.to_csv('../datasets/disease.csv')"
   ],
   "metadata": {
    "collapsed": false,
    "pycharm": {
     "name": "#%%\n"
    }
   }
  },
  {
   "cell_type": "code",
   "execution_count": 6,
   "outputs": [
    {
     "data": {
      "text/plain": "date1\n1997-01-15    10.7\n1997-01-15    49.5\n1997-01-15    35.9\n1997-01-15     7.8\n1997-01-15     7.6\n              ... \n2019-12-15     0.0\n2019-12-15     0.0\n2019-12-15     0.0\n2019-12-15     0.0\n2019-12-15     0.0\nName: rain, Length: 30360, dtype: float64"
     },
     "execution_count": 6,
     "metadata": {},
     "output_type": "execute_result"
    }
   ],
   "source": [
    "import pandas as pd\n",
    "data = pd.read_csv(\"../datasets/climate.csv\" ,index_col='date1',parse_dates=['date1'])\n",
    "data['rain']"
   ],
   "metadata": {
    "collapsed": false,
    "pycharm": {
     "name": "#%%\n"
    }
   }
  }
 ],
 "metadata": {
  "kernelspec": {
   "display_name": "Python 3",
   "language": "python",
   "name": "python3"
  },
  "language_info": {
   "codemirror_mode": {
    "name": "ipython",
    "version": 2
   },
   "file_extension": ".py",
   "mimetype": "text/x-python",
   "name": "python",
   "nbconvert_exporter": "python",
   "pygments_lexer": "ipython2",
   "version": "2.7.6"
  }
 },
 "nbformat": 4,
 "nbformat_minor": 0
}